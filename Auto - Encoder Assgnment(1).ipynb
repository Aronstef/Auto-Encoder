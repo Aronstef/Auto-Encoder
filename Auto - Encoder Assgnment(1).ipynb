{
 "cells": [
  {
   "cell_type": "code",
   "execution_count": 13,
   "id": "62942c5e",
   "metadata": {},
   "outputs": [],
   "source": [
    "from keras.models import Sequential\n",
    "from keras.layers import Dense\n",
    "from keras.layers import LSTM\n",
    "from sklearn.model_selection import train_test_split\n",
    "import numpy as np\n",
    "import matplotlib.pyplot as plt\n",
    "import pandas as pd"
   ]
  },
  {
   "cell_type": "code",
   "execution_count": 14,
   "id": "225a3dc1",
   "metadata": {},
   "outputs": [],
   "source": [
    "#data = pd.DataFrame({'X': [0.1,0.2,0.3,0.4,0.5,0.6,0.7,0.8,0.9]})\n",
    "#index = [0,1,2,3,4,5,6,7,8]\n",
    "#print(data)\n",
    "seq = [0.1,0.2,0.3,0.4,0.5,0.6,0.7,0.8,0.9]"
   ]
  },
  {
   "cell_type": "markdown",
   "id": "f1423d76",
   "metadata": {},
   "source": [
    "LSTM model"
   ]
  },
  {
   "cell_type": "markdown",
   "id": "f4b9450e",
   "metadata": {},
   "source": [
    "#A. Start off by creating an input sequence of numbers: [0.1,0.2,0.3,0.4,0.5,0.6,0.7,0.8,0.9]\n",
    "\n",
    "#a. Build an LSTM RNN model on top of this data. Compile the model with ‘adam’ to be the optimizer and loss to be ‘mse’"
   ]
  },
  {
   "cell_type": "code",
   "execution_count": 15,
   "id": "81abca16",
   "metadata": {},
   "outputs": [],
   "source": [
    "from tensorflow.keras.models import Sequential\n",
    "from keras.layers import LSTM, RepeatVector, TimeDistributed, Dense\n",
    "#input_shape-(1,1)\n",
    "\n",
    "#model.fit(data, data, epochs=100)\n",
    "#model.predict(data)\n"
   ]
  },
  {
   "cell_type": "code",
   "execution_count": 16,
   "id": "6a62d2dd",
   "metadata": {},
   "outputs": [],
   "source": [
    "model = Sequential()\n",
    "model.add(LSTM(64, activation='relu', input_shape=(len(seq), 1)))\n",
    "model.add(RepeatVector(len(seq)))\n",
    "model.add(LSTM(64, activation='relu', return_sequences=True))\n",
    "model.add(TimeDistributed(Dense(1)))\n",
    "model.compile(optimizer='adam', loss='mse')"
   ]
  },
  {
   "cell_type": "code",
   "execution_count": 17,
   "id": "a23d34db",
   "metadata": {},
   "outputs": [],
   "source": [
    "# Reshape input sequence to fit the LSTM model input shape\n",
    "seq = np.array(seq).reshape(1, len(seq), 1)"
   ]
  },
  {
   "cell_type": "code",
   "execution_count": 18,
   "id": "9c1e4496",
   "metadata": {},
   "outputs": [
    {
     "data": {
      "text/plain": [
       "<keras.src.callbacks.History at 0x246b942c610>"
      ]
     },
     "execution_count": 18,
     "metadata": {},
     "output_type": "execute_result"
    }
   ],
   "source": [
    "# Train the model\n",
    "model.fit(seq, seq, epochs=1000, verbose=0)"
   ]
  },
  {
   "cell_type": "code",
   "execution_count": 19,
   "id": "79dd544e",
   "metadata": {},
   "outputs": [
    {
     "name": "stdout",
     "output_type": "stream",
     "text": [
      "1/1 [==============================] - 0s 329ms/step\n",
      "[0.1009977  0.19924474 0.2995587  0.40022814 0.50048816 0.6002182\n",
      " 0.69970655 0.799508   0.9003638 ]\n"
     ]
    }
   ],
   "source": [
    "# Evaluate the model on the input sequence\n",
    "reconstructed_seq = model.predict(seq)\n",
    "print(reconstructed_seq.reshape(len(seq), -1).squeeze())"
   ]
  },
  {
   "cell_type": "markdown",
   "id": "e4cbe8bf",
   "metadata": {},
   "source": [
    "#b. Fit the model on data and set the number of epochs to be 300"
   ]
  },
  {
   "cell_type": "code",
   "execution_count": 33,
   "id": "246b39cf",
   "metadata": {},
   "outputs": [],
   "source": [
    "from keras.models import Sequential\n",
    "from keras.layers import LSTM, Dense\n",
    "import numpy as np\n"
   ]
  },
  {
   "cell_type": "code",
   "execution_count": 34,
   "id": "5a3d876d",
   "metadata": {},
   "outputs": [],
   "source": [
    "# Define the input sequence\n",
    "seq = [0.1, 0.2, 0.3, 0.4, 0.5, 0.6, 0.7, 0.8, 0.9]\n",
    "\n",
    "# Reshape the input sequence\n",
    "seq = np.array(seq).reshape(len(seq), 1, 1)"
   ]
  },
  {
   "cell_type": "code",
   "execution_count": 35,
   "id": "7eee4085",
   "metadata": {},
   "outputs": [],
   "source": [
    "# Define the LSTM autoencoder model\n",
    "model = Sequential()\n",
    "model.add(LSTM(64, activation='relu', input_shape=(1, 1), return_sequences=True))\n",
    "model.add(LSTM(16, activation='relu', return_sequences=False))\n",
    "model.add(RepeatVector(1))\n",
    "model.add(LSTM(16, activation='relu', return_sequences=True))\n",
    "model.add(LSTM(64, activation='relu', return_sequences=True))\n",
    "model.add(Dense(1))"
   ]
  },
  {
   "cell_type": "code",
   "execution_count": 36,
   "id": "631bd143",
   "metadata": {},
   "outputs": [
    {
     "name": "stdout",
     "output_type": "stream",
     "text": [
      "1/1 [==============================] - 1s 644ms/step\n",
      "[0.23341918 0.27236181 0.32000965 0.378574   0.45099044 0.54110056\n",
      " 0.6498676  0.78661364 0.95951366]\n"
     ]
    }
   ],
   "source": [
    "# Compile the model\n",
    "model.compile(optimizer='adam', loss='mse')\n",
    "\n",
    "# Fit the model for 300 epochs\n",
    "model.fit(seq, seq, epochs=300, verbose=0)\n",
    "\n",
    "# Evaluate the model on the input sequence\n",
    "reconstructed_seq = model.predict(seq)\n",
    "\n",
    "# Print the reconstructed sequence\n",
    "print(reconstructed_seq.reshape(len(seq))) "
   ]
  },
  {
   "cell_type": "markdown",
   "id": "8f3291fb",
   "metadata": {},
   "source": [
    "#c. Predict the values and verify it with the input data"
   ]
  },
  {
   "cell_type": "code",
   "execution_count": 37,
   "id": "0a20f6bd",
   "metadata": {},
   "outputs": [
    {
     "name": "stdout",
     "output_type": "stream",
     "text": [
      "1/1 [==============================] - 0s 79ms/step\n",
      "Reconstructed sequence:\n",
      "[0.23341918 0.27236181 0.32000965 0.378574   0.45099044 0.54110056\n",
      " 0.6498676  0.78661364 0.95951366]\n",
      "The model has failed to learn to encode and decode the sequence.\n"
     ]
    }
   ],
   "source": [
    "# Predict the reconstructed sequence\n",
    "reconstructed_seq = model.predict(seq)\n",
    "\n",
    "# Print the reconstructed sequence\n",
    "print(\"Reconstructed sequence:\")\n",
    "print(reconstructed_seq.reshape(len(seq)))\n",
    "\n",
    "# Compare the reconstructed sequence with the input sequence\n",
    "if np.allclose(reconstructed_seq, seq):\n",
    "    print(\"The model has successfully learned to encode and decode the sequence.\")\n",
    "else:\n",
    "    print(\"The model has failed to learn to encode and decode the sequence.\")"
   ]
  },
  {
   "cell_type": "code",
   "execution_count": null,
   "id": "7952a496",
   "metadata": {},
   "outputs": [],
   "source": []
  },
  {
   "cell_type": "code",
   "execution_count": null,
   "id": "372c0b54",
   "metadata": {},
   "outputs": [],
   "source": []
  },
  {
   "cell_type": "code",
   "execution_count": null,
   "id": "a65d135e",
   "metadata": {},
   "outputs": [],
   "source": []
  }
 ],
 "metadata": {
  "kernelspec": {
   "display_name": "Python 3 (ipykernel)",
   "language": "python",
   "name": "python3"
  },
  "language_info": {
   "codemirror_mode": {
    "name": "ipython",
    "version": 3
   },
   "file_extension": ".py",
   "mimetype": "text/x-python",
   "name": "python",
   "nbconvert_exporter": "python",
   "pygments_lexer": "ipython3",
   "version": "3.9.13"
  }
 },
 "nbformat": 4,
 "nbformat_minor": 5
}
